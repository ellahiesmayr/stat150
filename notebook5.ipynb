{
 "cells": [
  {
   "cell_type": "code",
   "execution_count": 1,
   "metadata": {
    "ExecuteTime": {
     "end_time": "2024-04-04T21:18:14.752782Z",
     "start_time": "2024-04-04T21:18:04.651777Z"
    }
   },
   "outputs": [],
   "source": [
    "import numpy as np\n",
    "import matplotlib.pyplot as plt"
   ]
  },
  {
   "cell_type": "markdown",
   "metadata": {},
   "source": [
    "# Poisson Processes"
   ]
  },
  {
   "cell_type": "markdown",
   "metadata": {},
   "source": [
    "Today we will have a look at some of the properties of Poisson processes. Let us first define a function that gives us the arrival times up to time $s$ for a Poisson process of rate $\\lambda = 1/m$."
   ]
  },
  {
   "cell_type": "code",
   "execution_count": 2,
   "metadata": {
    "ExecuteTime": {
     "end_time": "2024-04-04T21:18:14.771871Z",
     "start_time": "2024-04-04T21:18:14.755693Z"
    }
   },
   "outputs": [],
   "source": [
    "def arrivals(s,m):\n",
    "    # we will save the arrival times here\n",
    "    T = np.array([np.random.exponential(m)])\n",
    "\n",
    "    i = 0\n",
    "    A = T\n",
    "    while(A < s):\n",
    "        Int = np.random.exponential(m)\n",
    "        A = T[i] + Int\n",
    "        T = np.append(T, A)\n",
    "        i = i+1\n",
    "    return(T)"
   ]
  },
  {
   "cell_type": "markdown",
   "metadata": {},
   "source": [
    "Let us look at the arrival times of a sample first:"
   ]
  },
  {
   "cell_type": "code",
   "execution_count": 3,
   "metadata": {
    "ExecuteTime": {
     "end_time": "2024-04-04T21:18:14.799838Z",
     "start_time": "2024-04-04T21:18:14.787015Z"
    }
   },
   "outputs": [
    {
     "name": "stdout",
     "output_type": "stream",
     "text": [
      "[ 1.08907606  3.78653745  3.93743335  4.42728918 10.66270544 11.11760337\n",
      " 22.58723619]\n"
     ]
    }
   ],
   "source": [
    "# length of interval\n",
    "s = 20\n",
    "# mean of the inter-arrival times\n",
    "m = 2\n",
    "\n",
    "T = arrivals(s,m)\n",
    "print(T)"
   ]
  },
  {
   "cell_type": "markdown",
   "metadata": {},
   "source": [
    "Let us now plot this poisson process, $N(t)$. For this we again define a function, that takes as input the vector of arrival times, $T$, and the length, $s$, of the process."
   ]
  },
  {
   "cell_type": "code",
   "execution_count": 4,
   "metadata": {
    "ExecuteTime": {
     "end_time": "2024-04-04T21:18:14.827221Z",
     "start_time": "2024-04-04T21:18:14.806155Z"
    }
   },
   "outputs": [],
   "source": [
    "def poisson_plot(T,s):\n",
    "    # g determines at how many times we evaluate N(t)\n",
    "    g = s*1000\n",
    "    # these are the times at which we evaluate N(t)\n",
    "    x = np.linspace(0,s,g+1)\n",
    "    # y is used to record the value of the Poisson process at each time in x\n",
    "    y = np.zeros(g+1)\n",
    "    for i in range(0,g+1):\n",
    "        y[i] = len(T[T<=x[i]])\n",
    "        \n",
    "    # now we set up our figure\n",
    "    plt.figure(figsize=(17, 4))  \n",
    "    # Remove the plot frame lines.\n",
    "    ax = plt.subplot(111)    \n",
    "    ax.spines[\"top\"].set_visible(False)    \n",
    "    ax.spines[\"bottom\"].set_visible(False)    \n",
    "    ax.spines[\"right\"].set_visible(False)    \n",
    "    ax.spines[\"left\"].set_visible(False)    \n",
    "\n",
    "    # Ensure that the axis ticks only show up on the bottom and left of the plot.    \n",
    "    ax.get_xaxis().tick_bottom()    \n",
    "    ax.get_yaxis().tick_left()  \n",
    "    plt.xticks(np.arange(0, s + 0.1, step=max(1,np.floor(s/20))))\n",
    "    plt.yticks(np.arange(0, max(len(T),s/m+3), step=max(1,np.floor(s/10))));\n",
    "    ax.set_ylim(-1,max(len(T),s/m+2))\n",
    "\n",
    "    #Label axes and put in ticks\n",
    "    plt.ylabel('Number of arrivals')\n",
    "    plt.xlabel('Time')\n",
    "\n",
    "    ax.plot(x,y, color=\"darkcyan\");"
   ]
  },
  {
   "cell_type": "code",
   "execution_count": 5,
   "metadata": {
    "ExecuteTime": {
     "end_time": "2024-04-04T21:18:15.207164Z",
     "start_time": "2024-04-04T21:18:14.838167Z"
    }
   },
   "outputs": [
    {
     "name": "stdout",
     "output_type": "stream",
     "text": [
      "[ 0.2640889   8.69805724  9.32941066  9.7222206  11.11100089 13.76468408\n",
      " 15.13735794 15.79533878 15.93509233 16.94778786 17.53660266 21.49022936]\n"
     ]
    },
    {
     "data": {
      "image/png": "[encoded data removed]",
      "text/plain": [
       "<Figure size 1224x288 with 1 Axes>"
      ]
     },
     "metadata": {
      "needs_background": "light"
     },
     "output_type": "display_data"
    }
   ],
   "source": [
    "# length of interval\n",
    "s = 20\n",
    "# mean of the inter-arrival times\n",
    "m = 2\n",
    "\n",
    "T = arrivals(s,m)\n",
    "print(T)\n",
    "poisson_plot(T,s)"
   ]
  },
  {
   "cell_type": "markdown",
   "metadata": {},
   "source": [
    "**Question 1:**\n",
    "\n",
    "Try different values of $m$ and look at a few samples of this process. Do you notice anything unexpected concerning the plots? Are they more regular than you expected? Or less regular? Does this change as the length of the interval increases?\n",
    "\n",
    "We know that the expected number of arrivals by time $s$ is $\\lambda \\cdot s$, which can also be written as $\\frac{s}{m}$ if $m$ is the mean inter-arrival time, so the growth is linear in $s$ on average. Is this average linear growth visible on the plot? As you increase $s$, does it become more visible?"
   ]
  },
  {
   "cell_type": "markdown",
   "metadata": {},
   "source": [
    "## Thinning"
   ]
  },
  {
   "cell_type": "markdown",
   "metadata": {},
   "source": [
    "We now move on to the next topic: thinning. We know that if we thin the process by assigning each arrival to a category, we get several independent Poisson processes. We illustrate this here:"
   ]
  },
  {
   "cell_type": "markdown",
   "metadata": {},
   "source": [
    "First we create a Poisson process with mean $m$, then assign each arrival to the category *blue* or *red*, with probability $1-p$ respectively $p$. This is done by sampling a vector $C$, that has Bernoulli($p$) entries, each arrival corresponding to a 1, will be categorised as *red* and otherwise as *blue*."
   ]
  },
  {
   "cell_type": "code",
   "execution_count": 6,
   "metadata": {
    "ExecuteTime": {
     "end_time": "2024-04-04T21:18:15.219727Z",
     "start_time": "2024-04-04T21:18:15.211792Z"
    }
   },
   "outputs": [
    {
     "name": "stdout",
     "output_type": "stream",
     "text": [
      "[ 2.91193614  4.3112598   5.79866295 10.38269301 10.53966474 18.9830661\n",
      " 19.32611905 20.18918287]\n",
      "[0 1 0 0 1 1 0 1]\n"
     ]
    }
   ],
   "source": [
    "# length of interval\n",
    "s = 20\n",
    "# mean of the inter-arrival times\n",
    "m = 2\n",
    "\n",
    "T = arrivals(s,m)\n",
    "print(T)\n",
    "    \n",
    "p = 0.4\n",
    "C = np.random.binomial(1,p,len(T))\n",
    "print(C)"
   ]
  },
  {
   "cell_type": "markdown",
   "metadata": {},
   "source": [
    "Below we define the blue arrival times to be those entries where the corresponding entry in $C$ is 0, and the red entries are those where the corresponding entry in $C$ is 1. We save these arrivals as $T_b$, respectively $T_r$."
   ]
  },
  {
   "cell_type": "code",
   "execution_count": 7,
   "metadata": {
    "ExecuteTime": {
     "end_time": "2024-04-04T21:18:15.242628Z",
     "start_time": "2024-04-04T21:18:15.222774Z"
    }
   },
   "outputs": [
    {
     "name": "stdout",
     "output_type": "stream",
     "text": [
      "T = [ 2.91193614  4.3112598   5.79866295 10.38269301 10.53966474 18.9830661\n",
      " 19.32611905 20.18918287]\n",
      "C = [0 1 0 0 1 1 0 1]\n",
      "T_b = [ 2.91193614  5.79866295 10.38269301 19.32611905]\n",
      "T_r = [ 4.3112598  10.53966474 18.9830661  20.18918287]\n"
     ]
    }
   ],
   "source": [
    "T_b = T[C==0]\n",
    "T_r = T[C==1]\n",
    "print(\"T = \" + str(T))\n",
    "print(\"C = \" + str(C))\n",
    "print(\"T_b = \" + str(T_b))\n",
    "print(\"T_r = \" + str(T_r))"
   ]
  },
  {
   "cell_type": "markdown",
   "metadata": {},
   "source": [
    "Now we plot these processes. To do this we define the function *thin_plot* which takes as input a vector $T$ of arrivals, the length $s$ of the process and the probability $p$ with which each entries is assigned the color *red*, all other entries are assigned the color *blue*."
   ]
  },
  {
   "cell_type": "code",
   "execution_count": 8,
   "metadata": {
    "ExecuteTime": {
     "end_time": "2024-04-04T21:18:15.347194Z",
     "start_time": "2024-04-04T21:18:15.266646Z"
    }
   },
   "outputs": [],
   "source": [
    "def thin_plot(T,s,p):\n",
    "    # First we subset the arrivals, just as above\n",
    "    C = np.random.binomial(1,p,len(T))\n",
    "    T_b = T[C==0]\n",
    "    T_r = T[C==1]\n",
    "    \n",
    "    # Then we define the Poisson processes corresponding to these arrivals\n",
    "    g = s*1000\n",
    "    x = np.linspace(0,s,g+1)\n",
    "\n",
    "    y = np.zeros(g+1)\n",
    "    for i in range(0,g+1):\n",
    "        y[i] = len(T[T<=x[i]])\n",
    "\n",
    "    y_b = np.zeros(g+1)\n",
    "    for i in range(0,g+1):\n",
    "        y_b[i] = len(T_b[T_b<=x[i]])\n",
    "\n",
    "    y_r = np.zeros(g+1)\n",
    "    for i in range(0,g+1):\n",
    "        y_r[i] = len(T_r[T_r<=x[i]])\n",
    "    \n",
    "    # now we set up our figure\n",
    "    plt.figure(figsize=(17, 4))  \n",
    "    # Remove the plot frame lines.\n",
    "    ax = plt.subplot(111)    \n",
    "    ax.spines[\"top\"].set_visible(False)    \n",
    "    ax.spines[\"bottom\"].set_visible(False)    \n",
    "    ax.spines[\"right\"].set_visible(False)    \n",
    "    ax.spines[\"left\"].set_visible(False)    \n",
    "\n",
    "    # Ensure that the axis ticks only show up on the bottom and left of the plot.    \n",
    "    ax.get_xaxis().tick_bottom()    \n",
    "    ax.get_yaxis().tick_left()  \n",
    "    plt.xticks(np.arange(0, s + 0.1, step=max(1,np.floor(s/20))))\n",
    "    plt.yticks(np.arange(0, max(len(T),s/m+3), step=max(1,np.floor(s/10))));\n",
    "    ax.set_ylim(-1,max(len(T),s/m+2))\n",
    "\n",
    "    #Label axes and put in ticks\n",
    "    plt.ylabel('Number of arrivals')\n",
    "    plt.xlabel('Time')\n",
    "\n",
    "    plt.plot(x,y, linestyle = \"solid\", color = 'darkcyan', label=\"All arrivals (p = \" + str(p) +\")\")\n",
    "    plt.plot(x,y_b, linestyle = \"dashed\", color='blue', label = \"Blue arrivals (p = \" + str(1-p) +\")\")\n",
    "    plt.plot(x,y_r, linestyle = \"dotted\", color='red', label = \"Red arrivals\");\n",
    "    plt.legend()\n",
    "        \n",
    "    "
   ]
  },
  {
   "cell_type": "markdown",
   "metadata": {},
   "source": [
    "Let's now use look at a few sample paths of this thinned Poisson process."
   ]
  },
  {
   "cell_type": "code",
   "execution_count": 9,
   "metadata": {
    "ExecuteTime": {
     "end_time": "2024-04-04T21:18:15.705633Z",
     "start_time": "2024-04-04T21:18:15.352797Z"
    }
   },
   "outputs": [
    {
     "data": {
      "image/png": "[encoded data removed]",
      "text/plain": [
       "<Figure size 1224x288 with 1 Axes>"
      ]
     },
     "metadata": {
      "needs_background": "light"
     },
     "output_type": "display_data"
    }
   ],
   "source": [
    "# length of the process\n",
    "s = 20\n",
    "# probability of an entry being red\n",
    "p = 0.3\n",
    "\n",
    "# sample the Poisson arrivals\n",
    "T = arrivals(s,m)\n",
    "\n",
    "thin_plot(T,s,p)"
   ]
  },
  {
   "cell_type": "markdown",
   "metadata": {},
   "source": [
    "In the graph above it should be visible that the cyan plot is the sum of the red and the blue plot. Feel free to play with the parameters to get a better sense of how different these plots look like and what a typical plot looks like."
   ]
  },
  {
   "cell_type": "markdown",
   "metadata": {},
   "source": [
    "## Time since the last arrival"
   ]
  },
  {
   "cell_type": "markdown",
   "metadata": {},
   "source": [
    "We now move on to a completely different topic: the time since the last arrival. We derived in class the distribution and the expected value of the age, which is the time since the last arrival, i.e. $t-L$, where $L$ is the last arrival before time $t$. We want to look at this distribution now, by taking a few samples of this random variable."
   ]
  },
  {
   "cell_type": "code",
   "execution_count": 10,
   "metadata": {
    "ExecuteTime": {
     "end_time": "2024-04-04T21:18:15.799841Z",
     "start_time": "2024-04-04T21:18:15.708633Z"
    }
   },
   "outputs": [],
   "source": [
    "# length of interval\n",
    "s = 6\n",
    "# mean of the inter-arrival times\n",
    "m = 2\n",
    "# number of samples we take\n",
    "reps = 1000\n",
    "\n",
    "L = np.zeros(reps)\n",
    "\n",
    "for rep in range(0,reps):\n",
    "    T = arrivals(s,m)\n",
    "    L[rep] = s - max(np.append(0,T[T<s]))\n",
    "    rep = rep + 1"
   ]
  },
  {
   "cell_type": "markdown",
   "metadata": {},
   "source": [
    "Let us now look at the histogram of the time since the last arrival for these *reps* many samples. "
   ]
  },
  {
   "cell_type": "code",
   "execution_count": 11,
   "metadata": {
    "ExecuteTime": {
     "end_time": "2024-04-04T21:18:16.527367Z",
     "start_time": "2024-04-04T21:18:15.802504Z"
    }
   },
   "outputs": [
    {
     "data": {
      "image/png": "[encoded data removed]",
      "text/plain": [
       "<Figure size 1440x360 with 1 Axes>"
      ]
     },
     "metadata": {
      "needs_background": "light"
     },
     "output_type": "display_data"
    }
   ],
   "source": [
    "plt.figure(figsize=(20, 5))\n",
    "# Remove the plot frame lines.\n",
    "ax = plt.subplot(111)    \n",
    "ax.spines[\"top\"].set_visible(False)    \n",
    "ax.spines[\"bottom\"].set_visible(False)    \n",
    "ax.spines[\"right\"].set_visible(False)    \n",
    "ax.spines[\"left\"].set_visible(False)    \n",
    "\n",
    "# Ensure that the axis ticks only show up on the bottom and left of the plot.    \n",
    "ax.get_xaxis().tick_bottom()    \n",
    "ax.get_yaxis().tick_left() \n",
    "\n",
    "plt.hist(L, bins = 200, density = True, color='plum', alpha = 0.5)\n",
    "x = np.linspace(0,s,s*1000)\n",
    "y = np.exp(-x/m)/m\n",
    "ax.plot(x, y, linestyle = \"solid\", color = \"gold\", linewidth=2,  label = \"Density of an exponential with mean \" + str(m) +\".\")\n",
    "plt.axvline(x = 2, color = \"goldenrod\", linewidth=3, linestyle = (0, (1, 1)), label = \"Mean of the limiting exponential distribution\")\n",
    "plt.axvline(x = np.mean(L), color = \"purple\",linestyle = \"dashed\", linewidth=2, label = \"Mean of the sample\")\n",
    "plt.legend()\n",
    "plt.xlabel(\"Time since last arrival\");"
   ]
  },
  {
   "cell_type": "markdown",
   "metadata": {},
   "source": [
    "**Question 2:** \n",
    "\n",
    "Recall that $\\mathbb{P}(s - L > t ) = e^{-\\lambda t} $ for $ t < s$, $\\mathbb{P}(s - L = s) = e^{-\\lambda s}$ and $\\mathbb{P} ( s - L > s) = 0$. So we can conclude that the distribution of the time since the last arrival approaches the exponential distribution with mean $m$ as $ s \\to \\infty$. What is the most obvious deviation from this limit for small $s$? Based on the histogram above, how large does $s$ have to be for the histogram to approach the density of an exponential random variable? Feel free to increase the sample size to get a better approximation of the distribution."
   ]
  },
  {
   "cell_type": "markdown",
   "metadata": {},
   "source": [
    "**Question 3:** \n",
    "\n",
    "Finally, recall the inspection paradox from page 140 in Durrett's book *Essentials of stochastic processes*. It was shown there that the expected lifetime of a component upon inspection is $\\frac{\\mathbb{E}[t_i^2]}{\\mathbb{E}[t_i]}$. Thus the expected lifetime of a component upon inspection, when a Poisson Process has been going on for a long time, is $2m$, where $m$ is the mean inter-arrival time. \n",
    "\n",
    "We know that the expected time since the last arrival is $m$ as $t \\to \\infty$, which was also illustrated in the histogram above. Now recall the fact that any given time $t$, the waiting time until the next arrival is exponential with mean $m$, by the memoryless property. Does this give you another way of deriving the result from the inspection paradox for the Poisson process?"
   ]
  }
 ],
 "metadata": {
  "kernelspec": {
   "display_name": "Python 3",
   "language": "python",
   "name": "python3"
  },
  "language_info": {
   "codemirror_mode": {
    "name": "ipython",
    "version": 3
   },
   "file_extension": ".py",
   "mimetype": "text/x-python",
   "name": "python",
   "nbconvert_exporter": "python",
   "pygments_lexer": "ipython3",
   "version": "3.8.3"
  }
 },
 "nbformat": 4,
 "nbformat_minor": 4
}
