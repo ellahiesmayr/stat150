{
 "cells": [
  {
   "cell_type": "code",
   "execution_count": 1,
   "metadata": {
    "ExecuteTime": {
     "end_time": "2024-04-25T18:15:22.308992Z",
     "start_time": "2024-04-25T18:15:19.394939Z"
    }
   },
   "outputs": [],
   "source": [
    "import numpy as np\n",
    "from scipy.stats import uniform\n",
    "import matplotlib.pyplot as plt\n",
    "from random import randint"
   ]
  },
  {
   "cell_type": "markdown",
   "metadata": {},
   "source": [
    "# Continuous-time Markov chains with discrete state space"
   ]
  },
  {
   "cell_type": "markdown",
   "metadata": {},
   "source": [
    "## Constructing a continuous-time Markov chain"
   ]
  },
  {
   "cell_type": "markdown",
   "metadata": {},
   "source": [
    "Before exploring any properties of continuous-time Markov chains, we want to see how such a Markov chain can be constructed for a given rate matrix. We will consider the 3-state rate matrix $Q$ defined below."
   ]
  },
  {
   "cell_type": "code",
   "execution_count": 2,
   "metadata": {
    "ExecuteTime": {
     "end_time": "2024-04-25T18:15:22.322986Z",
     "start_time": "2024-04-25T18:15:22.312610Z"
    }
   },
   "outputs": [
    {
     "name": "stdout",
     "output_type": "stream",
     "text": [
      "Q = \n",
      " [[ -9   8   1]\n",
      " [  1  -2   1]\n",
      " [  5   5 -10]]\n"
     ]
    }
   ],
   "source": [
    "# rate of moving from 0 to 1\n",
    "q_01 = 8\n",
    "# rate of moving from 0 to 2\n",
    "q_02 = 1\n",
    "# rate of moving from 1 to 0\n",
    "q_10 = 1\n",
    "# rate of moving from 1 to 2\n",
    "q_12 = 1\n",
    "# rate of moving from 2 to 0\n",
    "q_20 = 5\n",
    "# rate of moving from 2 to 1\n",
    "q_21 = 5\n",
    "\n",
    "Q = np.array([[- q_01 - q_02, q_01, q_02], [q_10, -q_10 - q_12, q_12], [q_20, q_21, -q_20 - q_21]])\n",
    "\n",
    "# we round the matrix to avoid floating point errors\n",
    "Q = np.round(Q,10)\n",
    "\n",
    "print(\"Q = \\n\", Q)"
   ]
  },
  {
   "cell_type": "markdown",
   "metadata": {},
   "source": [
    "As before, we define a function that checks whether a matrix satisfies all properties of a rate matrix."
   ]
  },
  {
   "cell_type": "code",
   "execution_count": 3,
   "metadata": {
    "ExecuteTime": {
     "end_time": "2024-04-25T18:15:22.356643Z",
     "start_time": "2024-04-25T18:15:22.329547Z"
    }
   },
   "outputs": [],
   "source": [
    "#here we check whether the matrix is a rate matrix\n",
    "def check_rate_mat(Q):\n",
    "    if np.shape(Q)[1] != np.shape(Q)[0]:\n",
    "        print(\"This is not a rate matrix, it is not square.\")\n",
    "        return\n",
    "    elif False in (np.round(np.sum(Q, axis = 1),5) == 0):\n",
    "        print(\"This is not a rate matrix, at least one row does not sum to 0.\")\n",
    "        return\n",
    "    for i in range(0,np.shape(Q)[1]):\n",
    "        for j in range(0,np.shape(Q)[1]):\n",
    "            if (j != i) & (Q[i,j] < 0):\n",
    "                print(\"This is not a rate matrix, the transition rate from \" \n",
    "                      + str(i) + \" to \" + str(j) + \" is negative.\")\n",
    "                return"
   ]
  },
  {
   "cell_type": "markdown",
   "metadata": {},
   "source": [
    "If the matrix we defined is a rate matrix, the following cell should not lead to any output."
   ]
  },
  {
   "cell_type": "code",
   "execution_count": 4,
   "metadata": {
    "ExecuteTime": {
     "end_time": "2024-04-25T18:15:22.368484Z",
     "start_time": "2024-04-25T18:15:22.363058Z"
    }
   },
   "outputs": [],
   "source": [
    "check_rate_mat(Q)"
   ]
  },
  {
   "cell_type": "markdown",
   "metadata": {},
   "source": [
    "Recall that we can construct a continuous Markov chain in two steps: \n",
    "- first we construct the skeleton, jump or routing chain, i.e. the discrete chain that only records where the chain moves, and not how long it stays in each state\n",
    "- then we sample the exponential waiting times with rates corresponding to the total rate at which we leave each state in the routing chain.\n",
    "\n",
    "See also page 150 in Durrett for a more detailed explanation of this process.\n"
   ]
  },
  {
   "cell_type": "markdown",
   "metadata": {},
   "source": [
    "### The routing chain \n",
    "\n",
    "Let us first find the routing matrix $R$ corresponding to our rate matrix $Q$. The entries of $R$ the probabilities that we move from $i$ to $j$ given that we leave $i$, i.e. $R_{i,j} = \\frac{Q_{i,j}}{-Q_{i,i}}$ for $i \\neq j$."
   ]
  },
  {
   "cell_type": "code",
   "execution_count": 5,
   "metadata": {
    "ExecuteTime": {
     "end_time": "2024-04-25T18:15:22.400494Z",
     "start_time": "2024-04-25T18:15:22.378471Z"
    },
    "scrolled": true
   },
   "outputs": [],
   "source": [
    "# this function computes the routing matrix\n",
    "# given a rate matrix Q\n",
    "\n",
    "def route_from_rate(Q):\n",
    "    \n",
    "    check_rate_mat(Q)\n",
    "    \n",
    "    R = np.zeros(np.shape(Q))\n",
    "    s = np.shape(Q)[1]\n",
    "    \n",
    "    for i in range(0,s-1):\n",
    "        if Q[i,i] == 0:\n",
    "            R[i,i] = 1\n",
    "        else:\n",
    "            for j in range(0,s-1):\n",
    "                if j != i:\n",
    "                    R[i,j] = np.round(Q[i,j]/-Q[i,i],9)\n",
    "            R[i,s-1] = 1 - sum(R[i,:])\n",
    "            \n",
    "    if Q[s-1,s-1] == 0:\n",
    "        R[s-1,s-1] = 1\n",
    "    else:\n",
    "        for j in range(0,s-2):\n",
    "            R[s-1,j] = np.round(Q[s-1,j]/-Q[s-1,s-1],9)\n",
    "        R[s-1,s-2] = 1 - sum(R[s-1,:])\n",
    "                                          \n",
    "    return R\n"
   ]
  },
  {
   "cell_type": "markdown",
   "metadata": {},
   "source": [
    "Let us apply this function on our rate matrix $Q$ to get the routing matrix $R$."
   ]
  },
  {
   "cell_type": "code",
   "execution_count": 6,
   "metadata": {
    "ExecuteTime": {
     "end_time": "2024-04-25T18:15:22.416023Z",
     "start_time": "2024-04-25T18:15:22.405692Z"
    }
   },
   "outputs": [
    {
     "name": "stdout",
     "output_type": "stream",
     "text": [
      "R = \n",
      "[[0.         0.88888889 0.11111111]\n",
      " [0.5        0.         0.5       ]\n",
      " [0.5        0.5        0.        ]]\n"
     ]
    }
   ],
   "source": [
    "R = route_from_rate(Q)\n",
    "print(\"R = \\n\" + str(R))"
   ]
  },
  {
   "cell_type": "markdown",
   "metadata": {},
   "source": [
    "To make sure that we always have a stochastic matrix we again define the function that test this for us."
   ]
  },
  {
   "cell_type": "code",
   "execution_count": 7,
   "metadata": {
    "ExecuteTime": {
     "end_time": "2024-04-25T18:15:22.456684Z",
     "start_time": "2024-04-25T18:15:22.446241Z"
    }
   },
   "outputs": [],
   "source": [
    "#here we check whether the matrix is a probability matrix\n",
    "def check_trans(P):\n",
    "    if np.shape(P)[1] != np.shape(P)[0]:\n",
    "        print(\"This is not a proper transition matrix, it is not square.\")\n",
    "        return\n",
    "    elif True in (P < 0):\n",
    "        print(\"This is not a proper transition matrix, at least one entry is negative.\")\n",
    "        return\n",
    "    elif False in ( np.sum(P, axis = 1) == 1):\n",
    "        print(\"This is not a proper transition matrix, at least one row does not sum to 1.\")\n",
    "        return"
   ]
  },
  {
   "cell_type": "code",
   "execution_count": 8,
   "metadata": {
    "ExecuteTime": {
     "end_time": "2024-04-25T18:15:22.471198Z",
     "start_time": "2024-04-25T18:15:22.468412Z"
    }
   },
   "outputs": [],
   "source": [
    "check_trans(R)"
   ]
  },
  {
   "cell_type": "markdown",
   "metadata": {},
   "source": [
    "Let us now contruct the discrete time chain $X$ that will give us the path that the continuous Markov chain will follow. Here we sample the chain first and then plot it, rather than doing this all at once like in earlier notebooks."
   ]
  },
  {
   "cell_type": "code",
   "execution_count": 9,
   "metadata": {
    "ExecuteTime": {
     "end_time": "2024-04-25T18:15:22.491147Z",
     "start_time": "2024-04-25T18:15:22.478323Z"
    }
   },
   "outputs": [],
   "source": [
    "# this function samples a path of a Markov chain with \n",
    "# transition matrix: P\n",
    "# starting state: start\n",
    "# number of discrete steps: nsteps\n",
    "\n",
    "def sample_path(P, start, nsteps):\n",
    "    \n",
    "    #first we check whether we have a valid transition matrix\n",
    "    check_trans(P)\n",
    "    \n",
    "    # second we check whether start is a valid state of this Markov chain\n",
    "    if start not in range(0,np.shape(P)[1]):\n",
    "        print(\"This is not a valid starting point.\")\n",
    "        return\n",
    "\n",
    "    # we will use this to save the states\n",
    "    X = np.zeros(nsteps+1)\n",
    "    # starting state\n",
    "    X[0] = start\n",
    "    for i in range(0, nsteps) :\n",
    "        step = uniform.rvs(size = 1, loc = 0, scale = 1)\n",
    "        next = 0\n",
    "        while sum(P[int(X[i])][range(0,next+1)]) < step:\n",
    "                  next = next + 1\n",
    "        X[i+1] = next\n",
    "        \n",
    "    X = X.astype(int)\n",
    "    return X"
   ]
  },
  {
   "cell_type": "markdown",
   "metadata": {},
   "source": [
    "Below you can see the first states of a sample path for our routing matrix $R$."
   ]
  },
  {
   "cell_type": "code",
   "execution_count": 10,
   "metadata": {
    "ExecuteTime": {
     "end_time": "2024-04-25T18:15:22.509113Z",
     "start_time": "2024-04-25T18:15:22.498175Z"
    }
   },
   "outputs": [
    {
     "name": "stdout",
     "output_type": "stream",
     "text": [
      "X = [0 1 2 1 2 0 1 2 1 0 1]\n"
     ]
    }
   ],
   "source": [
    "# number of steps\n",
    "steps = 10\n",
    "# initial state\n",
    "start = 0\n",
    "\n",
    "X = sample_path(R, start, steps)\n",
    "print(\"X = \" + str(X))"
   ]
  },
  {
   "cell_type": "markdown",
   "metadata": {},
   "source": [
    "We now define a function that plots this path."
   ]
  },
  {
   "cell_type": "code",
   "execution_count": 11,
   "metadata": {
    "ExecuteTime": {
     "end_time": "2024-04-25T18:15:22.530436Z",
     "start_time": "2024-04-25T18:15:22.514572Z"
    }
   },
   "outputs": [],
   "source": [
    "# Plots the path of a sequence X\n",
    "\n",
    "def plot_path(X):\n",
    "    \n",
    "    plt.figure(figsize=(17, 4))  \n",
    "    # Remove the plot frame lines.\n",
    "    ax = plt.subplot(111)    \n",
    "    ax.spines[\"top\"].set_visible(False)    \n",
    "    ax.spines[\"bottom\"].set_visible(False)    \n",
    "    ax.spines[\"right\"].set_visible(False)    \n",
    "    ax.spines[\"left\"].set_visible(False)    \n",
    "\n",
    "    # Ensure that the axis ticks only show up on the bottom and left of the plot.    \n",
    "    ax.get_xaxis().tick_bottom()    \n",
    "    ax.get_yaxis().tick_left()  \n",
    "    \n",
    "    #Label axes and put in ticks\n",
    "    plt.ylabel('State')\n",
    "    plt.xlabel('Time')\n",
    "    plt.axis([-1, len(X), -0.2, max(X)+0.2])\n",
    "    plt.xticks(np.arange(0, len(X), step=max(1,np.floor(len(X)/20))));\n",
    "    plt.yticks(np.arange(0, max(X)+1, step = 1));    \n",
    "    \n",
    "    # Choose style of the lines\n",
    "    ax.plot(X, linestyle = 'dotted', marker = 's', color = 'firebrick')\n",
    "    return"
   ]
  },
  {
   "cell_type": "markdown",
   "metadata": {},
   "source": [
    "Below you can see the plot of the path of the routing chain we just sampled."
   ]
  },
  {
   "cell_type": "code",
   "execution_count": 12,
   "metadata": {
    "ExecuteTime": {
     "end_time": "2024-04-25T18:15:22.685962Z",
     "start_time": "2024-04-25T18:15:22.533734Z"
    },
    "scrolled": true
   },
   "outputs": [
    {
     "data": {
      "image/png": "[encoded data removed]",
      "text/plain": [
       "<Figure size 1224x288 with 1 Axes>"
      ]
     },
     "metadata": {
      "needs_background": "light"
     },
     "output_type": "display_data"
    }
   ],
   "source": [
    "plot_path(X)"
   ]
  },
  {
   "cell_type": "markdown",
   "metadata": {},
   "source": [
    "The path above is how we used to visualize our discrete Markov chains, but you will see later that the connection between the discrete routing chain and the continuous chain will be more visible if we consider the chain to stay in each state for a unit time before it jumps again. For this reason we will visualize the sample paths in that way today."
   ]
  },
  {
   "cell_type": "code",
   "execution_count": 13,
   "metadata": {
    "ExecuteTime": {
     "end_time": "2024-04-25T18:15:22.700660Z",
     "start_time": "2024-04-25T18:15:22.689157Z"
    }
   },
   "outputs": [],
   "source": [
    "# plots a sequence X with unit holding times\n",
    "\n",
    "def plot_path_step(X):\n",
    "    \n",
    "    s = len(X)\n",
    "    # g determines at how many times we evaluate X(t)\n",
    "    g = s*1000\n",
    "    # these are the times at which we evaluate X(t)\n",
    "    x = np.linspace(0, s, g+1, endpoint = False)\n",
    "    # Z is used to record the continuous version of the discrete chain,\n",
    "    # i.e. the version that stays in each state for one time unit\n",
    "    Z = np.zeros(len(x))\n",
    "    for i in range(0,len(x)):\n",
    "        Z[i] = X[int(np.floor(x[i]))]\n",
    "        \n",
    "    \n",
    "    plt.figure(figsize=(17, 4))  \n",
    "    # Remove the plot frame lines.\n",
    "    ax = plt.subplot(111)    \n",
    "    ax.spines[\"top\"].set_visible(False)    \n",
    "    ax.spines[\"bottom\"].set_visible(False)    \n",
    "    ax.spines[\"right\"].set_visible(False)    \n",
    "    ax.spines[\"left\"].set_visible(False)    \n",
    "\n",
    "    # Ensure that the axis ticks only show up on the bottom and left of the plot.    \n",
    "    ax.get_xaxis().tick_bottom()    \n",
    "    ax.get_yaxis().tick_left()  \n",
    "    \n",
    "    #Label axes and put in ticks\n",
    "    plt.ylabel('State')\n",
    "    plt.xlabel('Time')\n",
    "    plt.axis([-1, len(X), -0.2, max(X)+0.2])\n",
    "    plt.xticks(np.arange(0, len(X), step=max(1,np.floor(len(X)/20))));\n",
    "    plt.yticks(np.arange(0, max(X)+1, step = 1));    \n",
    "    \n",
    "    # Choose style of the lines\n",
    "    ax.plot(x, Z, linestyle = 'solid', color = 'firebrick')\n",
    "    return"
   ]
  },
  {
   "cell_type": "markdown",
   "metadata": {},
   "source": [
    "Below you see a plot of the same sample path, except that we now consider the chain to stay in each state for one unit time."
   ]
  },
  {
   "cell_type": "code",
   "execution_count": 14,
   "metadata": {
    "ExecuteTime": {
     "end_time": "2024-04-25T18:15:22.833047Z",
     "start_time": "2024-04-25T18:15:22.703003Z"
    },
    "scrolled": true
   },
   "outputs": [
    {
     "data": {
      "image/png": "[encoded data removed]",
      "text/plain": [
       "<Figure size 1224x288 with 1 Axes>"
      ]
     },
     "metadata": {
      "needs_background": "light"
     },
     "output_type": "display_data"
    }
   ],
   "source": [
    "plot_path_step(X)"
   ]
  },
  {
   "cell_type": "markdown",
   "metadata": {},
   "source": [
    "### Jumping time"
   ]
  },
  {
   "cell_type": "markdown",
   "metadata": {},
   "source": [
    "Now that we have the path of the routing chain, we need to find the waiting times at each state. Since these change for each state, we will compute these holding times based on the sample path $X$. More precisely the $i+1$th waiting time will be an exponential with rate $\\lambda_{X(i)} = - Q(X(i),X(i))$. (The reason why the $i+1$th waiting time corresponds to state $X(i+1)$ is that we take our chain to start at 0."
   ]
  },
  {
   "cell_type": "code",
   "execution_count": 15,
   "metadata": {
    "ExecuteTime": {
     "end_time": "2024-04-25T18:15:22.841002Z",
     "start_time": "2024-04-25T18:15:22.836274Z"
    }
   },
   "outputs": [],
   "source": [
    "# the function below computes the waiting times of a continuous Markov chain given\n",
    "# the path of routing chain and\n",
    "# the corresponding rate matrix\n",
    "def wait_times(X, Q):\n",
    "    T = np.random.exponential(1,len(X))\n",
    "    for i in range(0,len(X)):\n",
    "        T[i] = T[i]/-Q[X[i],X[i]]\n",
    "    return T"
   ]
  },
  {
   "cell_type": "markdown",
   "metadata": {},
   "source": [
    "Below you can see the times we will spend at each state $X(i)$ before moving on."
   ]
  },
  {
   "cell_type": "code",
   "execution_count": 16,
   "metadata": {
    "ExecuteTime": {
     "end_time": "2024-04-25T18:15:22.856002Z",
     "start_time": "2024-04-25T18:15:22.846217Z"
    },
    "scrolled": false
   },
   "outputs": [
    {
     "name": "stdout",
     "output_type": "stream",
     "text": [
      "Waiting times: \n",
      "[0.06104115 0.62629477 0.09510984 0.0308233  0.0157543  0.28977155\n",
      " 0.77936881 0.16198587 1.62259874 0.09556    0.35253284]\n"
     ]
    }
   ],
   "source": [
    "T = wait_times(X, Q)\n",
    "print(\"Waiting times: \\n\" + str(T))"
   ]
  },
  {
   "cell_type": "markdown",
   "metadata": {},
   "source": [
    "What we actually need are the times at which the jumps happen, i.e. the consecutive sums of the waiting times. Let us compute these now:"
   ]
  },
  {
   "cell_type": "code",
   "execution_count": 17,
   "metadata": {
    "ExecuteTime": {
     "end_time": "2024-04-25T18:15:22.871212Z",
     "start_time": "2024-04-25T18:15:22.859188Z"
    }
   },
   "outputs": [],
   "source": [
    "# This function computes the jumping times given \n",
    "# a sequence of waiting times T\n",
    "\n",
    "def jump_times(T):\n",
    "    i = 0\n",
    "    A = np.zeros(len(T))\n",
    "    A[0] = T[0]\n",
    "    for i in range(1, len(T)):\n",
    "        A[i] = A[i-1] + T[i]\n",
    "    return(A)"
   ]
  },
  {
   "cell_type": "markdown",
   "metadata": {},
   "source": [
    "Below you can see the jumping times corresponding to our routing path."
   ]
  },
  {
   "cell_type": "code",
   "execution_count": 18,
   "metadata": {
    "ExecuteTime": {
     "end_time": "2024-04-25T18:15:22.887450Z",
     "start_time": "2024-04-25T18:15:22.874965Z"
    }
   },
   "outputs": [
    {
     "name": "stdout",
     "output_type": "stream",
     "text": [
      "Jumping times: \n",
      "[0.06104115 0.68733592 0.78244576 0.81326906 0.82902337 1.11879492\n",
      " 1.89816373 2.06014959 3.68274833 3.77830833 4.13084117]\n"
     ]
    }
   ],
   "source": [
    "J = jump_times(T)\n",
    "print(\"Jumping times: \\n\" + str(J))"
   ]
  },
  {
   "cell_type": "markdown",
   "metadata": {},
   "source": [
    "Let us now first plot the jump times by themselves: the plot below shows how many jumps will have happened by a certain time, let us call this function $N(t)$."
   ]
  },
  {
   "cell_type": "code",
   "execution_count": 19,
   "metadata": {
    "ExecuteTime": {
     "end_time": "2024-04-25T18:15:22.907831Z",
     "start_time": "2024-04-25T18:15:22.891728Z"
    }
   },
   "outputs": [],
   "source": [
    "# This function plots the number of jumps \n",
    "# that have happened by a certain time, given\n",
    "# a sequence oj juming times $J$ (i.e. an increasing sequence)\n",
    "def plot_jumptimes(T):\n",
    "    s = int(np.ceil(max(T)))\n",
    "    # g determines at how many times we evaluate N(t)\n",
    "    g = s*1000\n",
    "    # these are the times at which we evaluate N(t)\n",
    "    x = np.linspace(0, s, g+1)\n",
    "    x = x[x<=max(T)]\n",
    "    # y is used to record the number of jumps that happened by time x\n",
    "    y = np.zeros(len(x))\n",
    "    for i in range(0,len(x)):\n",
    "        y[i] = len(T[T<=x[i]])\n",
    "        \n",
    "    # now we set up our figure\n",
    "    plt.figure(figsize=(17, 4))  \n",
    "    # Remove the plot frame lines.\n",
    "    ax = plt.subplot(111)    \n",
    "    ax.spines[\"top\"].set_visible(False)    \n",
    "    ax.spines[\"bottom\"].set_visible(False)    \n",
    "    ax.spines[\"right\"].set_visible(False)    \n",
    "    ax.spines[\"left\"].set_visible(False)    \n",
    "\n",
    "    # Ensure that the axis ticks only show up on the bottom and left of the plot.    \n",
    "    ax.get_xaxis().tick_bottom()    \n",
    "    ax.get_yaxis().tick_left()  \n",
    "    #plt.xticks(np.arange(0, s, step=max(1,np.floor(s/20))))\n",
    "\n",
    "    #Label axes and put in ticks\n",
    "    plt.ylabel('Number of jumps')\n",
    "    plt.xlabel('Time')\n",
    "\n",
    "    ax.plot(x,y, color='deeppink');"
   ]
  },
  {
   "cell_type": "markdown",
   "metadata": {},
   "source": [
    "Below you can see a plot of the function $N(t)$, that counts the number of jumps that happened by time $t$, for our sample path."
   ]
  },
  {
   "cell_type": "code",
   "execution_count": 20,
   "metadata": {
    "ExecuteTime": {
     "end_time": "2024-04-25T18:15:23.100916Z",
     "start_time": "2024-04-25T18:15:22.909944Z"
    },
    "scrolled": true
   },
   "outputs": [
    {
     "data": {
      "image/png": "[encoded data removed]",
      "text/plain": [
       "<Figure size 1224x288 with 1 Axes>"
      ]
     },
     "metadata": {
      "needs_background": "light"
     },
     "output_type": "display_data"
    }
   ],
   "source": [
    "plot_jumptimes(J)"
   ]
  },
  {
   "cell_type": "markdown",
   "metadata": {},
   "source": [
    "### Putting everything together"
   ]
  },
  {
   "cell_type": "markdown",
   "metadata": {},
   "source": [
    "Let us finally put all of this together: $N(t)$ gives us the number of jumps that happened by time $t$, thus at time $t$, the continuous chain is at the $N(t)$'th state of the discrete chain $X$. So the continuous chain $Y(t)$ is equal to $X(N(t))$. The following function plots the two ingredients, $X$ and $N$, together with the plot of the continuous Markov chain $Y$."
   ]
  },
  {
   "cell_type": "code",
   "execution_count": 21,
   "metadata": {
    "ExecuteTime": {
     "end_time": "2024-04-25T18:15:23.125467Z",
     "start_time": "2024-04-25T18:15:23.104434Z"
    }
   },
   "outputs": [],
   "source": [
    "# This function plots the ingredients \n",
    "# of the construction of a continous time Markov chain, given\n",
    "# a routing path X and\n",
    "# a corresponding sequence of jump times J.\n",
    "\n",
    "def plot_construction(X, J):\n",
    "    \n",
    "    s = int(np.ceil(max(J)))\n",
    "    # g determines at how many times we evaluate N(t)\n",
    "    g = s*1000\n",
    "    # these are the times at which we evaluate N(t)\n",
    "    x = np.linspace(0, s, g+1)\n",
    "    x = x[x<=max(J)]\n",
    "    # y is used to record the number of jumps that happened by time x\n",
    "    y = np.zeros(len(x))\n",
    "    for i in range(0,len(x)):\n",
    "        y[i] = int(len(J[J<=x[i]]))\n",
    "        \n",
    "    Y = np.zeros(len(x))\n",
    "    for i in range(0,len(x)):\n",
    "        Y[i] = X[int(y[i])]\n",
    "    \n",
    "    # create the figure we will add the plots to\n",
    "    plt.figure(figsize=(17, 9))\n",
    "    \n",
    "    #subplot spacing\n",
    "    plt.subplots_adjust(left=None, bottom=None, right=None, top=None, wspace=None, hspace=0.3)\n",
    "    \n",
    "    # Remove the plot frame lines.\n",
    "    ax = plt.subplot(3,1,1)  \n",
    "    ax.spines[\"top\"].set_visible(True)    \n",
    "    ax.spines[\"bottom\"].set_visible(True)    \n",
    "    ax.spines[\"right\"].set_visible(True)    \n",
    "    ax.spines[\"left\"].set_visible(True) \n",
    "\n",
    "    s = len(X)\n",
    "    # g determines at how many times we evaluate X(t)\n",
    "    g = s*1000\n",
    "    # these are the times at which we evaluate X(t)\n",
    "    z = np.linspace(0, s, g+1, endpoint = False)\n",
    "    # Z is used to record the continuous version of the discrete chain,\n",
    "    # i.e. the version that stays in each state for one time unit\n",
    "    Z = np.zeros(len(z))\n",
    "    for i in range(0,len(z)):\n",
    "        Z[i] = X[int(np.floor(z[i]))]  \n",
    "\n",
    "    # Ensure that the axis ticks only show up on the bottom and left of the plot.    \n",
    "    ax.get_xaxis().tick_bottom()    \n",
    "    ax.get_yaxis().tick_left()  \n",
    "    \n",
    "    #Label axes and put in ticks\n",
    "    plt.ylabel('State')\n",
    "    plt.xlabel('Discrete time')\n",
    "    plt.axis([-1, len(X), -0.2, max(X)+0.2])\n",
    "    plt.xticks(np.arange(0, len(X), step=max(1,np.floor(len(X)/20))));\n",
    "    plt.yticks(np.arange(0, max(X)+1, step = 1));    \n",
    "    \n",
    "    # Choose style of the lines\n",
    "    ax.plot(z, Z, linestyle = 'solid', color = 'firebrick')\n",
    "    \n",
    "    ax = plt.subplot(3,1,2)  \n",
    "    #Label axes and put in ticks\n",
    "    plt.ylabel('Number of jumps')\n",
    "    plt.xlabel('Continuous time')\n",
    "    ax.plot(x, y, linestyle = 'solid', color = 'deeppink')\n",
    "    \n",
    "    ax = plt.subplot(3,1,3) \n",
    "    #Label axes and put in ticks\n",
    "    plt.ylabel('State')\n",
    "    plt.xlabel('Continuous time')\n",
    "    plt.yticks(np.arange(0, max(Y)+1, step = 1));  \n",
    "    ax.plot(x,Y, linestyle = 'solid', color = 'darkcyan')"
   ]
  },
  {
   "cell_type": "markdown",
   "metadata": {},
   "source": [
    "Below you can see the three plots next to each other. It should be visible that the continuous time chain follows the same path as the discrete chain but the moves to a different state happen according to the times from the jump times. In other words, the path of the continuous time Markov chain is generated by extending and shortening the waiting times at each state according to exponential waiting times."
   ]
  },
  {
   "cell_type": "code",
   "execution_count": 22,
   "metadata": {
    "ExecuteTime": {
     "end_time": "2024-04-25T18:15:23.477519Z",
     "start_time": "2024-04-25T18:15:23.129884Z"
    }
   },
   "outputs": [
    {
     "data": {
      "image/png": "[encoded data removed]",
      "text/plain": [
       "<Figure size 1224x648 with 3 Axes>"
      ]
     },
     "metadata": {
      "needs_background": "light"
     },
     "output_type": "display_data"
    }
   ],
   "source": [
    "plot_construction(X,J)"
   ]
  },
  {
   "cell_type": "markdown",
   "metadata": {},
   "source": [
    "In the matrix $Q$ that we defined, the rate at which we leave 1 is much lower than the rates at which we leave states 0 or 2. This should be visible in the plots: the longer waiting times should tend to correspond to times at which the chain is in state 1. \n",
    "\n",
    "**Question 1:** Are there any other interesting observations that can be made?"
   ]
  },
  {
   "cell_type": "markdown",
   "metadata": {},
   "source": [
    "### Explore"
   ]
  },
  {
   "cell_type": "markdown",
   "metadata": {},
   "source": [
    "Below you can look at the output for different rate matrices $Q$ and number of jumps $steps$. Below we define a function that does the construction all at once and then plots the discrete path, the waiting times, and the continuous time Markov chain. Feel free to change the rates of the matrix $Q$, but make sure to not create a row with 0's only, because the program does not work for chains with absorbant states."
   ]
  },
  {
   "cell_type": "code",
   "execution_count": 23,
   "metadata": {
    "ExecuteTime": {
     "end_time": "2024-04-25T18:15:23.495394Z",
     "start_time": "2024-04-25T18:15:23.489808Z"
    }
   },
   "outputs": [
    {
     "name": "stdout",
     "output_type": "stream",
     "text": [
      "Q = \n",
      " [[-3.   2.   1. ]\n",
      " [ 1.  -2.   1. ]\n",
      " [ 0.5  0.1 -0.6]]\n"
     ]
    }
   ],
   "source": [
    "# rate of moving from 0 to 1\n",
    "q_01 = 2\n",
    "# rate of moving from 0 to 2\n",
    "q_02 = 1\n",
    "# rate of moving from 1 to 0\n",
    "q_10 = 1\n",
    "# rate of moving from 1 to 2\n",
    "q_12 = 1\n",
    "# rate of moving from 2 to 0\n",
    "q_20 = 0.5\n",
    "# rate of moving from 2 to 1\n",
    "q_21 = 0.1\n",
    "\n",
    "Q = np.array([[- q_01 - q_02, q_01, q_02], [q_10, -q_10 - q_12, q_12], [q_20, q_21, -q_20 - q_21]])\n",
    "\n",
    "# we round the matrix to avoid floating point errors\n",
    "Q = np.round(Q,10)\n",
    "\n",
    "print(\"Q = \\n\", Q)"
   ]
  },
  {
   "cell_type": "code",
   "execution_count": 24,
   "metadata": {
    "ExecuteTime": {
     "end_time": "2024-04-25T18:15:23.544178Z",
     "start_time": "2024-04-25T18:15:23.508027Z"
    }
   },
   "outputs": [],
   "source": [
    "# The function below plots the path \n",
    "# of a continuous matrix with \n",
    "# rate matrix: Q, \n",
    "# starting state: start and \n",
    "# number of state switches: nsteps.\n",
    "def plot_cont_path(Q, start, nsteps):\n",
    "    \n",
    "    # first we check whether we have a valid rate matrix\n",
    "    check_rate_mat(Q)\n",
    "    \n",
    "    # second we check whether start is a valid state of this Markov chain\n",
    "    if start not in range(0,np.shape(Q)[1]):\n",
    "        print(\"This is not a valid starting point.\")\n",
    "        return\n",
    "    \n",
    "    # create the routing matrix\n",
    "    R = route_from_rate(Q)\n",
    "    check_trans(R)\n",
    "    \n",
    "    # we will use this to save the discrete routing chain\n",
    "    X = np.zeros(nsteps+1)\n",
    "    # starting state\n",
    "    X[0] = start\n",
    "    for i in range(0, nsteps) :\n",
    "        step = uniform.rvs(size = 1, loc = 0, scale = 1)\n",
    "        next = 0\n",
    "        while sum(R[int(X[i])][range(0,next+1)]) < step:\n",
    "                  next = next + 1\n",
    "        X[i+1] = next\n",
    "        \n",
    "    X = X.astype(int)\n",
    "    \n",
    "    # now we compute the step version of X\n",
    "    s = len(X)\n",
    "    # g determines at how many times we evaluate X(t)\n",
    "    g = s*1000\n",
    "    # these are the times at which we evaluate X(t)\n",
    "    z = np.linspace(0, s, g+1, endpoint = False)\n",
    "    # Z is used to record the continuous version of the discrete chain,\n",
    "    # i.e. the version that stays in each state for one time unit\n",
    "    Z = np.zeros(len(z))\n",
    "    for i in range(0,len(z)):\n",
    "        Z[i] = X[int(np.floor(z[i]))]  \n",
    "    \n",
    "    # now we search for the waiting times\n",
    "    T = wait_times(X, Q)\n",
    "    \n",
    "    # and convert it to the jump times\n",
    "    J = jump_times(T)\n",
    "    \n",
    "    # now we compute the value of the continuous chain\n",
    "    s = int(np.ceil(max(J)))\n",
    "    # g determines at how many times we evaluate N(t)\n",
    "    g = s*1000\n",
    "    # these are the times at which we evaluate N(t)\n",
    "    x = np.linspace(0, s, g+1)\n",
    "    x = x[x<=max(J)]\n",
    "    # y is used to record the number of jumps that happened by time x\n",
    "    y = np.zeros(len(x))\n",
    "    for i in range(0,len(x)):\n",
    "        y[i] = int(len(J[J<=x[i]]))\n",
    "        \n",
    "    Y = np.zeros(len(x))\n",
    "    for i in range(0,len(x)):\n",
    "        Y[i] = X[int(y[i])]\n",
    "    \n",
    "    # create the figure we will add the plots to\n",
    "    plt.figure(figsize=(17, 9))\n",
    "    \n",
    "    #subplot spacing\n",
    "    plt.subplots_adjust(left=None, bottom=None, right=None, top=None, wspace=None, hspace=0.3)\n",
    "    \n",
    "    # plot frame lines.\n",
    "    ax = plt.subplot(3,1,1)  \n",
    "    ax.spines[\"top\"].set_visible(True)    \n",
    "    ax.spines[\"bottom\"].set_visible(True)    \n",
    "    ax.spines[\"right\"].set_visible(True)    \n",
    "    ax.spines[\"left\"].set_visible(True) \n",
    "    \n",
    "    # Ensure that the axis ticks only show up on the bottom and left of the plot.    \n",
    "    ax.get_xaxis().tick_bottom()    \n",
    "    ax.get_yaxis().tick_left()  \n",
    "    \n",
    "    #Label axes and put in ticks\n",
    "    plt.ylabel('State')\n",
    "    plt.xlabel('Discrete time')\n",
    "    plt.axis([-1, len(X), -0.2, max(X)+0.2])\n",
    "    plt.xticks(np.arange(0, len(X), step=max(1,np.floor(len(X)/20))));\n",
    "    plt.yticks(np.arange(0, max(X)+1, step = 1));    \n",
    "    \n",
    "    # Choose style of the lines\n",
    "    ax.plot(z, Z, linestyle = 'solid', color = 'firebrick')\n",
    "    \n",
    "    ax = plt.subplot(3,1,2)  \n",
    "    #Label axes and put in ticks\n",
    "    plt.ylabel('Number of jumps')\n",
    "    plt.xlabel('Continuous time')\n",
    "    ax.plot(x, y, linestyle = 'solid', color = 'deeppink')\n",
    "    \n",
    "    ax = plt.subplot(3,1,3) \n",
    "    #Label axes and put in ticks\n",
    "    plt.ylabel('State')\n",
    "    plt.xlabel('Continuous time')\n",
    "    plt.yticks(np.arange(0, max(Y)+1, step = 1));  \n",
    "    ax.plot(x, Y, linestyle = 'solid', color = 'darkcyan')\n",
    "    \n",
    "    "
   ]
  },
  {
   "cell_type": "code",
   "execution_count": 25,
   "metadata": {
    "ExecuteTime": {
     "end_time": "2024-04-25T18:15:24.253717Z",
     "start_time": "2024-04-25T18:15:23.547991Z"
    }
   },
   "outputs": [
    {
     "data": {
      "image/png": "[encoded data removed]",
      "text/plain": [
       "<Figure size 1224x648 with 3 Axes>"
      ]
     },
     "metadata": {
      "needs_background": "light"
     },
     "output_type": "display_data"
    }
   ],
   "source": [
    "# starting state of the Markov chain\n",
    "start = 1\n",
    "# number of jumps the matrix makes\n",
    "steps = 20\n",
    "\n",
    "plot_cont_path(Q, start, steps)"
   ]
  },
  {
   "cell_type": "markdown",
   "metadata": {},
   "source": [
    "**Question 2:** Did your exploration lead to any observations? Some things you can try are to make all the rates equal, or to make the rates very different from each other. You can also look at the output for different rate matrices that have the same routing matrix."
   ]
  },
  {
   "cell_type": "markdown",
   "metadata": {},
   "source": [
    "Congrats on finishing the sixth notebook! I hope that it was interesting and I'd be happy about any __[feedback](https://docs.google.com/forms/d/e/1FAIpQLSe42BjDteeuBn_V4ABxSeQGid6ZzoEuydFmI7OvO2R1ap9T3g/viewform?usp=sf_link)__."
   ]
  }
 ],
 "metadata": {
  "kernelspec": {
   "display_name": "Python 3",
   "language": "python",
   "name": "python3"
  },
  "language_info": {
   "codemirror_mode": {
    "name": "ipython",
    "version": 3
   },
   "file_extension": ".py",
   "mimetype": "text/x-python",
   "name": "python",
   "nbconvert_exporter": "python",
   "pygments_lexer": "ipython3",
   "version": "3.8.3"
  }
 },
 "nbformat": 4,
 "nbformat_minor": 4
}
